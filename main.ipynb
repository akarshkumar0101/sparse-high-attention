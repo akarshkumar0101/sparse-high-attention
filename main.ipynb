{
 "cells": [
  {
   "cell_type": "code",
   "execution_count": 13,
   "id": "3997f012-493d-4d8d-99c6-79a3629ee847",
   "metadata": {},
   "outputs": [],
   "source": [
    "import torch\n",
    "from torch import nn\n",
    "import numpy as np\n",
    "import matplotlib.pyplot as plt\n",
    "\n",
    "import torchvision"
   ]
  },
  {
   "cell_type": "code",
   "execution_count": null,
   "id": "d2420436-6180-4d57-b27e-01eeb737ca5c",
   "metadata": {},
   "outputs": [],
   "source": []
  },
  {
   "cell_type": "code",
   "execution_count": null,
   "id": "6e3a94ce-3c48-4f8f-a398-afc2b5fc0268",
   "metadata": {},
   "outputs": [],
   "source": []
  },
  {
   "cell_type": "code",
   "execution_count": 14,
   "id": "2c50b8ed-cbb6-4dc0-8012-886876121949",
   "metadata": {},
   "outputs": [
    {
     "data": {
      "text/plain": [
       "16.0"
      ]
     },
     "execution_count": 14,
     "metadata": {},
     "output_type": "execute_result"
    }
   ],
   "source": [
    "32/8*32/8"
   ]
  },
  {
   "cell_type": "code",
   "execution_count": 105,
   "id": "96e5e8c6-abda-4c06-b60b-2401656372c6",
   "metadata": {},
   "outputs": [],
   "source": [
    "class Attention(nn.Module):\n",
    "    \n",
    "    def __init__(self, dim, n_heads):\n",
    "        super().__init__()\n",
    "        dim_head = dim//n_heads\n",
    "        self.Qms, self.Kms, self.Vms = nn.ModuleList(), nn.ModuleList(), nn.ModuleList()\n",
    "        for i in range(n_heads):\n",
    "            self.Qms.append(nn.Linear(dim, dim_head))\n",
    "            self.Kms.append(nn.Linear(dim, dim_head))\n",
    "            self.Vms.append(nn.Linear(dim, dim_head))\n",
    "        \n",
    "        self.Cm = nn.Linear(dim, dim)\n",
    "        \n",
    "    def forward(self, x):\n",
    "        bs, tl, dim = x.shape # batch size, token length, dimension\n",
    "        \n",
    "        nxs = []\n",
    "        for Qm, Km, Vm in zip(self.Qms, self.Kms, self.Vms):\n",
    "            q = Qm(x)\n",
    "            k = Km(x)\n",
    "            v = Vm(x)\n",
    "            \n",
    "            dim = q.shape[-1]\n",
    "            # print(q.shape, k.shape, v.shape)\n",
    "        \n",
    "            q = q.reshape(bs, tl, 1, dim)\n",
    "            k = k.reshape(bs, 1, tl, dim)\n",
    "\n",
    "            qk = (q*k).sum(dim=-1)\n",
    "            qk = qk.softmax(dim=-1)\n",
    "\n",
    "            nx = (qk[..., None]*v).sum(dim=-2)\n",
    "            nxs.append(nx)\n",
    "        nxs = torch.cat(nxs, dim=-1)\n",
    "        nx = self.Cm(nxs)\n",
    "        print(nx.shape)"
   ]
  },
  {
   "cell_type": "code",
   "execution_count": 290,
   "id": "2122c2d7-5f27-4554-b8ae-5d04922a2dfd",
   "metadata": {},
   "outputs": [],
   "source": [
    "class Attention(nn.Module):\n",
    "    def __init__(self, dim, n_heads):\n",
    "        super().__init__()\n",
    "        self.dim = dim\n",
    "        self.dim_head = dim//n_heads\n",
    "        self.n_heads = n_heads\n",
    "        self.QKVms = nn.Linear(dim, dim*3)\n",
    "        self.Cm = nn.Linear(dim, dim)\n",
    "        \n",
    "    def forward(self, x, y, z):\n",
    "        bs, tl, dim = x.shape # batch size, token length, dimension\n",
    "        \n",
    "        qkv = self.QKVms(x)\n",
    "        qkv = qkv.reshape(bs, tl, 3, self.n_heads, self.dim_head)\n",
    "        q, k, v = qkv.split(1, dim=2)\n",
    "        q, k, v = [a.squeeze(dim=2) for a in [q, k, v]]\n",
    "        q = q[:, :, None]\n",
    "        k = k[:, None]\n",
    "        qk = (q*k).sum(dim=-1)\n",
    "        qk = qk/self.dim_head\n",
    "        qk = qk.softmax(dim=2)\n",
    "\n",
    "        nx = (qk[..., None]*v[:, None]).sum(dim=-3)\n",
    "        nx = nx.reshape(bs, tl, dim)\n",
    "        nx = self.Cm(nx)\n",
    "        return nx, qk.mean(dim=-1)"
   ]
  },
  {
   "cell_type": "code",
   "execution_count": 302,
   "id": "e63737b6-a89d-4915-9530-024e23f530b5",
   "metadata": {},
   "outputs": [
    {
     "name": "stdout",
     "output_type": "stream",
     "text": [
      "tensor(0.0012)\n",
      "torch.Size([4, 16, 200]) torch.Size([4, 16, 16])\n",
      "0.16496993601322174 198.26150512695312\n"
     ]
    },
    {
     "data": {
      "image/png": "[encoded data removed]",
      "text/plain": [
       "<Figure size 432x288 with 4 Axes>"
      ]
     },
     "metadata": {
      "needs_background": "light"
     },
     "output_type": "display_data"
    },
    {
     "name": "stdout",
     "output_type": "stream",
     "text": [
      "0.0625 0.07469376921653748\n"
     ]
    },
    {
     "data": {
      "image/png": "[encoded data removed]",
      "text/plain": [
       "<Figure size 432x288 with 4 Axes>"
      ]
     },
     "metadata": {
      "needs_background": "light"
     },
     "output_type": "display_data"
    },
    {
     "name": "stdout",
     "output_type": "stream",
     "text": [
      "\n",
      "\n",
      "tensor(0.0012)\n",
      "torch.Size([4, 16, 200]) torch.Size([4, 16, 16])\n",
      "0.15475402772426605 200.634765625\n"
     ]
    },
    {
     "data": {
      "image/png": "[encoded data removed]",
      "text/plain": [
       "<Figure size 432x288 with 4 Axes>"
      ]
     },
     "metadata": {
      "needs_background": "light"
     },
     "output_type": "display_data"
    },
    {
     "name": "stdout",
     "output_type": "stream",
     "text": [
      "0.0625 0.07607581466436386\n"
     ]
    },
    {
     "data": {
      "image/png": "[encoded data removed]",
      "text/plain": [
       "<Figure size 432x288 with 4 Axes>"
      ]
     },
     "metadata": {
      "needs_background": "light"
     },
     "output_type": "display_data"
    },
    {
     "name": "stdout",
     "output_type": "stream",
     "text": [
      "\n",
      "\n"
     ]
    }
   ],
   "source": [
    "torch.manual_seed(10)\n",
    "x = torch.randn(4, 16, 200)\n",
    "\n",
    "att_mine = Attention(200, 10)\n",
    "att_torch = nn.MultiheadAttention(200, 10, batch_first=True)\n",
    "\n",
    "for att in [att_mine, att_torch]:\n",
    "    params = [p.numel() for p in att.parameters()]\n",
    "    n_params = np.sum(params)\n",
    "    \n",
    "    torch.manual_seed(111)\n",
    "    p = torch.randn(n_params)\n",
    "    print(p.mean())\n",
    "    nn.utils.vector_to_parameters(p, att.parameters())\n",
    "    \n",
    "    y1, y2 = att(x, x, x)\n",
    "    print(y1.shape, y2.shape)\n",
    "    # print(n_params)\n",
    "    # print(params)\n",
    "    print(y1.mean().item(), y1.std().item())\n",
    "    for i, y1i in enumerate(y1):\n",
    "        plt.subplot(1, 4, i+1)\n",
    "        plt.imshow(y1[i].detach().numpy()[:, :16])\n",
    "    plt.show()\n",
    "    \n",
    "    print(y2.mean().item(), y2.std().item())\n",
    "    for i, y2i in enumerate(y2):\n",
    "        plt.subplot(1, 4, i+1)\n",
    "        plt.imshow(y2[i].detach().numpy())\n",
    "    plt.show()\n",
    "    \n",
    "    print()\n",
    "    print()"
   ]
  },
  {
   "cell_type": "code",
   "execution_count": null,
   "id": "9f07eeed-7345-4e6f-ba29-fec37bf7373e",
   "metadata": {},
   "outputs": [],
   "source": [
    "class HighAttention(nn.Module):\n",
    "    \n",
    "    def __init__(self, dim, n_heads):\n",
    "        super().__init__()\n",
    "        dim_head = dim//n_heads\n",
    "        self.Qms, self.Kms, self.Vms = nn.ModuleList(), nn.ModuleList(), nn.ModuleList()\n",
    "        for i in range(n_heads):\n",
    "            self.Qms.append(nn.Linear(dim, dim_head))\n",
    "            self.Kms.append(nn.Linear(dim, dim_head))\n",
    "            self.Vms.append(nn.Linear(dim, dim_head))\n",
    "        \n",
    "        self.Cm = nn.Linear(dim, dim)\n",
    "        \n",
    "    def forward(self, x):\n",
    "        bs, tl, dim = x.shape # batch size, token length, dimension\n",
    "        \n",
    "        nxs = []\n",
    "        for Qm, Km, Vm in zip(self.Qms, self.Kms, self.Vms):\n",
    "            q = Qm(x)\n",
    "            k = Km(x)\n",
    "            v = Vm(x)\n",
    "            \n",
    "            dim = q.shape[-1]\n",
    "            # print(q.shape, k.shape, v.shape)\n",
    "        \n",
    "            q = q.reshape(bs, tl, 1, dim)\n",
    "            k = k.reshape(bs, 1, tl, dim)\n",
    "\n",
    "            qk = (q*k).sum(dim=-1)\n",
    "            qk = qk.softmax(dim=-1)\n",
    "\n",
    "            nx = (qk[..., None]*v).sum(dim=-2)\n",
    "            nxs.append(nx)\n",
    "        nxs = torch.cat(nxs, dim=-1)\n",
    "        nx = self.Cm(nxs)\n",
    "        print(nx.shape)"
   ]
  },
  {
   "cell_type": "code",
   "execution_count": null,
   "id": "b163b677-aad4-4b02-92b8-417554820d6f",
   "metadata": {},
   "outputs": [],
   "source": []
  },
  {
   "cell_type": "code",
   "execution_count": null,
   "id": "7653e020-d48d-4698-a113-e15ca5d11d34",
   "metadata": {},
   "outputs": [],
   "source": []
  },
  {
   "cell_type": "code",
   "execution_count": null,
   "id": "5cd8c8ba-53f1-4fb0-9ac0-ecdab5f54bfd",
   "metadata": {},
   "outputs": [],
   "source": []
  },
  {
   "cell_type": "code",
   "execution_count": null,
   "id": "f7c9ac70-75c1-419f-8848-4df75008e978",
   "metadata": {},
   "outputs": [],
   "source": []
  },
  {
   "cell_type": "code",
   "execution_count": null,
   "id": "653df24b-0f4b-45fe-8ef4-4ac73a60f8c3",
   "metadata": {},
   "outputs": [],
   "source": []
  },
  {
   "cell_type": "code",
   "execution_count": null,
   "id": "d3f93489-2890-441f-b5bb-af136c06074f",
   "metadata": {},
   "outputs": [],
   "source": []
  },
  {
   "cell_type": "code",
   "execution_count": null,
   "id": "55743049-c388-4c02-9589-5be1ce59c0eb",
   "metadata": {},
   "outputs": [],
   "source": []
  },
  {
   "cell_type": "code",
   "execution_count": null,
   "id": "083c943f-3faa-4f5a-ad72-0c27bdb01738",
   "metadata": {},
   "outputs": [],
   "source": []
  },
  {
   "cell_type": "code",
   "execution_count": null,
   "id": "e6b87e66-0ce0-4751-b611-99bc6f2772e7",
   "metadata": {},
   "outputs": [],
   "source": []
  },
  {
   "cell_type": "code",
   "execution_count": null,
   "id": "18805e66-55a0-4ecc-87e7-2600c84a672c",
   "metadata": {},
   "outputs": [],
   "source": []
  }
 ],
 "metadata": {
  "kernelspec": {
   "display_name": "Python 3 (ipykernel)",
   "language": "python",
   "name": "python3"
  },
  "language_info": {
   "codemirror_mode": {
    "name": "ipython",
    "version": 3
   },
   "file_extension": ".py",
   "mimetype": "text/x-python",
   "name": "python",
   "nbconvert_exporter": "python",
   "pygments_lexer": "ipython3",
   "version": "3.9.5"
  }
 },
 "nbformat": 4,
 "nbformat_minor": 5
}
